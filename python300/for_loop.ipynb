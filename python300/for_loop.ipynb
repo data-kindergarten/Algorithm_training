{
 "cells": [
  {
   "cell_type": "markdown",
   "id": "dc4f55ea",
   "metadata": {},
   "source": [
    "# 파이썬 반복문"
   ]
  },
  {
   "cell_type": "code",
   "execution_count": 1,
   "id": "7adb67dc",
   "metadata": {},
   "outputs": [
    {
     "name": "stdout",
     "output_type": "stream",
     "text": [
      "사과\n",
      "귤\n",
      "수박\n"
     ]
    }
   ],
   "source": [
    "# 131\n",
    "\n",
    "fruits = ['사과', '귤', '수박']\n",
    "\n",
    "for i in fruits:\n",
    "    print(i)"
   ]
  },
  {
   "cell_type": "code",
   "execution_count": 2,
   "id": "d04d9deb",
   "metadata": {},
   "outputs": [
    {
     "name": "stdout",
     "output_type": "stream",
     "text": [
      "#####\n",
      "#####\n",
      "#####\n"
     ]
    }
   ],
   "source": [
    "# 132\n",
    "\n",
    "fruits = ['사과', '귤', '수박']\n",
    "\n",
    "for i in fruits:\n",
    "    print(\"#####\")"
   ]
  },
  {
   "cell_type": "code",
   "execution_count": 3,
   "id": "865e71ba",
   "metadata": {},
   "outputs": [
    {
     "name": "stdout",
     "output_type": "stream",
     "text": [
      "10\n",
      "20\n",
      "30\n"
     ]
    }
   ],
   "source": [
    "# 136\n",
    "\n",
    "numbers = [10, 20, 30]\n",
    "\n",
    "for i in numbers:\n",
    "    print(i)"
   ]
  },
  {
   "cell_type": "code",
   "execution_count": 4,
   "id": "731ad7ed",
   "metadata": {
    "scrolled": true
   },
   "outputs": [
    {
     "name": "stdout",
     "output_type": "stream",
     "text": [
      "10\n",
      "------\n",
      "20\n",
      "------\n",
      "30\n",
      "------\n"
     ]
    }
   ],
   "source": [
    "# 138\n",
    "\n",
    "numbers = [10, 20, 30]\n",
    "\n",
    "for i in numbers:\n",
    "    print(i)\n",
    "    print('------')"
   ]
  },
  {
   "cell_type": "code",
   "execution_count": 6,
   "id": "428432b1",
   "metadata": {},
   "outputs": [
    {
     "name": "stdout",
     "output_type": "stream",
     "text": [
      "+++\n",
      "10\n",
      "20\n",
      "30\n"
     ]
    }
   ],
   "source": [
    "# 139\n",
    "\n",
    "numbers = [10, 20, 30]\n",
    "\n",
    "print('+++')\n",
    "\n",
    "for i in numbers:\n",
    "    print(i)"
   ]
  },
  {
   "cell_type": "code",
   "execution_count": 9,
   "id": "03ff7fd2",
   "metadata": {
    "scrolled": false
   },
   "outputs": [
    {
     "name": "stdout",
     "output_type": "stream",
     "text": [
      "110\n",
      "210\n",
      "310\n"
     ]
    }
   ],
   "source": [
    "# 141\n",
    "\n",
    "li = [100, 200, 300]\n",
    "\n",
    "for i in li:\n",
    "    print(i+10)"
   ]
  },
  {
   "cell_type": "code",
   "execution_count": 17,
   "id": "c24fee43",
   "metadata": {
    "scrolled": true
   },
   "outputs": [
    {
     "name": "stdout",
     "output_type": "stream",
     "text": [
      "오늘의 메뉴: 김밥\n",
      "오늘의 메뉴: 라면\n",
      "오늘의 메뉴: 튀김\n"
     ]
    }
   ],
   "source": [
    "# 142\n",
    "\n",
    "manu = [\"김밥\", \"라면\", \"튀김\"]\n",
    "\n",
    "# for i in manu:\n",
    "#     print(\"오늘의 메뉴: \" + i)\n",
    "    \n",
    "for i in manu:\n",
    "    print(\"오늘의 메뉴:\", i)"
   ]
  },
  {
   "cell_type": "code",
   "execution_count": 14,
   "id": "2de9efca",
   "metadata": {},
   "outputs": [
    {
     "name": "stdout",
     "output_type": "stream",
     "text": [
      "6\n",
      "4\n",
      "4\n"
     ]
    }
   ],
   "source": [
    "# 143\n",
    "\n",
    "stock = [\"SK하이닉스\", \"삼성전자\", \"LG전자\"]\n",
    "\n",
    "for i in stock:\n",
    "    print(len(i))"
   ]
  },
  {
   "cell_type": "code",
   "execution_count": 18,
   "id": "addfab06",
   "metadata": {},
   "outputs": [
    {
     "name": "stdout",
     "output_type": "stream",
     "text": [
      "dog 3\n",
      "cat 3\n",
      "parrot 6\n"
     ]
    }
   ],
   "source": [
    "# 144\n",
    "\n",
    "animals = ['dog', 'cat', 'parrot']\n",
    "\n",
    "for i in animals:\n",
    "    print(i, len(i))"
   ]
  },
  {
   "cell_type": "code",
   "execution_count": 20,
   "id": "9555afe3",
   "metadata": {},
   "outputs": [
    {
     "name": "stdout",
     "output_type": "stream",
     "text": [
      "d\n",
      "c\n",
      "p\n"
     ]
    }
   ],
   "source": [
    "# 145\n",
    "\n",
    "animals = ['dog', 'cat', 'parrot']\n",
    "\n",
    "for i in animals:\n",
    "    print(i[0])"
   ]
  },
  {
   "cell_type": "code",
   "execution_count": 23,
   "id": "3c7b32a5",
   "metadata": {},
   "outputs": [
    {
     "name": "stdout",
     "output_type": "stream",
     "text": [
      "3 x 1\n",
      "3 x 2\n",
      "3 x 3\n"
     ]
    }
   ],
   "source": [
    "# 146\n",
    "\n",
    "li = [1, 2, 3]\n",
    "\n",
    "for i in li:\n",
    "    print(\"3 x\", i)"
   ]
  },
  {
   "cell_type": "code",
   "execution_count": 25,
   "id": "dbb02edc",
   "metadata": {},
   "outputs": [
    {
     "name": "stdout",
     "output_type": "stream",
     "text": [
      "3 x 1 = 3\n",
      "3 x 2 = 6\n",
      "3 x 3 = 9\n"
     ]
    }
   ],
   "source": [
    "# 147\n",
    "\n",
    "li = [1, 2, 3]\n",
    "\n",
    "for i in li:\n",
    "    print(\"3 x\", i, \"=\", 3*i)"
   ]
  },
  {
   "cell_type": "code",
   "execution_count": 21,
   "id": "403aa1c4",
   "metadata": {},
   "outputs": [
    {
     "name": "stdout",
     "output_type": "stream",
     "text": [
      "나\n",
      "다\n",
      "라\n"
     ]
    }
   ],
   "source": [
    "# 148\n",
    "\n",
    "li = [\"가\", \"나\", \"다\", \"라\"]\n",
    "\n",
    "# for i in li:\n",
    "#     if i == \"가\":\n",
    "#         pass\n",
    "#     else:\n",
    "#         print(i)\n",
    "        \n",
    "for i in li[1:]:\n",
    "    print(i)"
   ]
  },
  {
   "cell_type": "code",
   "execution_count": 22,
   "id": "73b34228",
   "metadata": {},
   "outputs": [
    {
     "name": "stdout",
     "output_type": "stream",
     "text": [
      "가\n",
      "다\n"
     ]
    }
   ],
   "source": [
    "# 149 \n",
    "# 홀수 위치만 인덱싱\n",
    "\n",
    "li = [\"가\", \"나\", \"다\", \"라\"]\n",
    "\n",
    "for i in li[0::2]:\n",
    "    print(i)"
   ]
  },
  {
   "cell_type": "code",
   "execution_count": 23,
   "id": "b1595e87",
   "metadata": {
    "scrolled": true
   },
   "outputs": [
    {
     "name": "stdout",
     "output_type": "stream",
     "text": [
      "라\n",
      "다\n",
      "나\n",
      "가\n"
     ]
    }
   ],
   "source": [
    "# 150\n",
    "# 역순 출력\n",
    "\n",
    "li = [\"가\", \"나\", \"다\", \"라\"]\n",
    "\n",
    "for i in li[::-1]:\n",
    "    print(i)"
   ]
  },
  {
   "cell_type": "code",
   "execution_count": 24,
   "id": "ff9067cb",
   "metadata": {},
   "outputs": [
    {
     "name": "stdout",
     "output_type": "stream",
     "text": [
      "-20\n",
      "-3\n"
     ]
    }
   ],
   "source": [
    "# 151 \n",
    "# 리스트에서 음수만 출력\n",
    "\n",
    "li = [3, -20, -3, 44]\n",
    "\n",
    "for i in li:\n",
    "    if i < 0:\n",
    "        print(i)"
   ]
  },
  {
   "cell_type": "code",
   "execution_count": 28,
   "id": "47fa5b64",
   "metadata": {},
   "outputs": [
    {
     "name": "stdout",
     "output_type": "stream",
     "text": [
      "12\n",
      "18\n"
     ]
    }
   ],
   "source": [
    "# 152\n",
    "# 리스트에서 3의 배수만 출력\n",
    "\n",
    "\n",
    "li = [13, 21, 12, 14, 30, 18]\n",
    "\n",
    "for i in li:\n",
    "    if (i % 3 == 0) & (i < 20):\n",
    "        print(i)"
   ]
  },
  {
   "cell_type": "code",
   "execution_count": null,
   "id": "6943b760",
   "metadata": {},
   "outputs": [],
   "source": []
  },
  {
   "cell_type": "code",
   "execution_count": null,
   "id": "b1588d68",
   "metadata": {},
   "outputs": [],
   "source": []
  },
  {
   "cell_type": "code",
   "execution_count": null,
   "id": "befe2349",
   "metadata": {},
   "outputs": [],
   "source": []
  },
  {
   "cell_type": "code",
   "execution_count": null,
   "id": "55381e45",
   "metadata": {},
   "outputs": [],
   "source": []
  },
  {
   "cell_type": "code",
   "execution_count": null,
   "id": "282d2097",
   "metadata": {},
   "outputs": [],
   "source": []
  },
  {
   "cell_type": "code",
   "execution_count": null,
   "id": "2c9950f4",
   "metadata": {},
   "outputs": [],
   "source": []
  },
  {
   "cell_type": "code",
   "execution_count": null,
   "id": "8ff08d24",
   "metadata": {},
   "outputs": [],
   "source": []
  },
  {
   "cell_type": "code",
   "execution_count": null,
   "id": "85d031dc",
   "metadata": {},
   "outputs": [],
   "source": []
  },
  {
   "cell_type": "code",
   "execution_count": null,
   "id": "3c9faa1b",
   "metadata": {},
   "outputs": [],
   "source": []
  },
  {
   "cell_type": "code",
   "execution_count": null,
   "id": "172dfe36",
   "metadata": {},
   "outputs": [],
   "source": []
  }
 ],
 "metadata": {
  "kernelspec": {
   "display_name": "Python 3 (ipykernel)",
   "language": "python",
   "name": "python3"
  },
  "language_info": {
   "codemirror_mode": {
    "name": "ipython",
    "version": 3
   },
   "file_extension": ".py",
   "mimetype": "text/x-python",
   "name": "python",
   "nbconvert_exporter": "python",
   "pygments_lexer": "ipython3",
   "version": "3.9.13"
  }
 },
 "nbformat": 4,
 "nbformat_minor": 5
}
